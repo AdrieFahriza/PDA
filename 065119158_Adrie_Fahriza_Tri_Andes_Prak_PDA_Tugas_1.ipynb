{
  "nbformat": 4,
  "nbformat_minor": 0,
  "metadata": {
    "colab": {
      "name": "065119158_Adrie Fahriza Tri Andes_Prak. PDA Tugas 1.ipynb",
      "provenance": [],
      "collapsed_sections": [],
      "include_colab_link": true
    },
    "kernelspec": {
      "name": "python3",
      "display_name": "Python 3"
    },
    "language_info": {
      "name": "python"
    }
  },
  "cells": [
    {
      "cell_type": "markdown",
      "metadata": {
        "id": "view-in-github",
        "colab_type": "text"
      },
      "source": [
        "<a href=\"https://colab.research.google.com/github/AdrieFahriza/PDA/blob/main/065119158_Adrie_Fahriza_Tri_Andes_Prak_PDA_Tugas_1.ipynb\" target=\"_parent\"><img src=\"https://colab.research.google.com/assets/colab-badge.svg\" alt=\"Open In Colab\"/></a>"
      ]
    },
    {
      "cell_type": "markdown",
      "source": [
        "#**Tugas 1 PDA**\n",
        "\n",
        "Nama : Adrie Fahriza Tri Andes\n",
        "\n",
        "NPM : 065119158\n",
        "\n",
        "Kelas : B"
      ],
      "metadata": {
        "id": "vXxmYl5Skms5"
      }
    },
    {
      "cell_type": "markdown",
      "source": [
        "#**Persiapan**"
      ],
      "metadata": {
        "id": "04vXDHrFm-HC"
      }
    },
    {
      "cell_type": "markdown",
      "source": [
        "**Import Library**"
      ],
      "metadata": {
        "id": "SMTYTDagk30v"
      }
    },
    {
      "cell_type": "code",
      "execution_count": null,
      "metadata": {
        "id": "al0SAecxOHW7"
      },
      "outputs": [],
      "source": [
        "import pandas as pd\n",
        "import numpy as np\n",
        "import seaborn as sns\n",
        "import matplotlib.pyplot as plt"
      ]
    },
    {
      "cell_type": "markdown",
      "source": [
        "**Import Dataset**"
      ],
      "metadata": {
        "id": "mL120RlDmTnB"
      }
    },
    {
      "cell_type": "code",
      "source": [
        "# Mengambil dataset Games yang telah diedit\n",
        "!wget -O Games_edited.csv https://raw.githubusercontent.com/AdrieFahriza/dataset/main/Games_edited.csv"
      ],
      "metadata": {
        "colab": {
          "base_uri": "https://localhost:8080/"
        },
        "id": "goQK6QbIlNeH",
        "outputId": "375e662b-840a-4c24-aeee-058ee851bd18"
      },
      "execution_count": null,
      "outputs": [
        {
          "output_type": "stream",
          "name": "stdout",
          "text": [
            "--2022-04-13 17:02:11--  https://raw.githubusercontent.com/AdrieFahriza/dataset/main/Games_edited.csv\n",
            "Resolving raw.githubusercontent.com (raw.githubusercontent.com)... 185.199.108.133, 185.199.109.133, 185.199.110.133, ...\n",
            "Connecting to raw.githubusercontent.com (raw.githubusercontent.com)|185.199.108.133|:443... connected.\n",
            "HTTP request sent, awaiting response... 200 OK\n",
            "Length: 4470 (4.4K) [text/plain]\n",
            "Saving to: ‘Games_edited.csv’\n",
            "\n",
            "Games_edited.csv    100%[===================>]   4.37K  --.-KB/s    in 0s      \n",
            "\n",
            "2022-04-13 17:02:12 (45.6 MB/s) - ‘Games_edited.csv’ saved [4470/4470]\n",
            "\n"
          ]
        }
      ]
    },
    {
      "cell_type": "code",
      "source": [
        "# Membaca dataset\n",
        "df = pd.read_csv('Games_edited.csv')\n",
        "df.info()"
      ],
      "metadata": {
        "colab": {
          "base_uri": "https://localhost:8080/"
        },
        "id": "WZynzw64O1Qe",
        "outputId": "e703b501-b33a-42d2-c484-3e632fe9e5c5"
      },
      "execution_count": null,
      "outputs": [
        {
          "output_type": "stream",
          "name": "stdout",
          "text": [
            "<class 'pandas.core.frame.DataFrame'>\n",
            "RangeIndex: 49 entries, 0 to 48\n",
            "Data columns (total 7 columns):\n",
            " #   Column     Non-Null Count  Dtype  \n",
            "---  ------     --------------  -----  \n",
            " 0   Name       49 non-null     object \n",
            " 1   Sales      49 non-null     float64\n",
            " 2   Series     27 non-null     object \n",
            " 3   Release    49 non-null     object \n",
            " 4   Genre      49 non-null     object \n",
            " 5   Developer  49 non-null     object \n",
            " 6   Publisher  49 non-null     object \n",
            "dtypes: float64(1), object(6)\n",
            "memory usage: 2.8+ KB\n"
          ]
        }
      ]
    },
    {
      "cell_type": "code",
      "source": [
        "df.head()"
      ],
      "metadata": {
        "colab": {
          "base_uri": "https://localhost:8080/",
          "height": 206
        },
        "id": "6GXeiOPYRd7d",
        "outputId": "8d6e668e-e943-474f-aa73-2fc4bf67c4ec"
      },
      "execution_count": null,
      "outputs": [
        {
          "output_type": "execute_result",
          "data": {
            "text/plain": [
              "                            Name  Sales           Series Release  \\\n",
              "0  PlayerUnknown's Battlegrounds   42.0              NaN  Dec-17   \n",
              "1                     Diablo III   20.0           Diablo  May-12   \n",
              "2                      Fall Guys   10.0              NaN  Aug-20   \n",
              "3                           Rust    9.0              NaN  Feb-18   \n",
              "4         Euro Truck Simulator 2    6.5  Truck Simulator  Oct-12   \n",
              "\n",
              "                 Genre               Developer               Publisher  \n",
              "0        Battle royale            PUBG Studios                 Krafton  \n",
              "1  Action role-playing  Blizzard Entertainment  Blizzard Entertainment  \n",
              "2        Battle royale              Mediatonic        Devolver Digital  \n",
              "3             Survival       Facepunch Studios       Facepunch Studios  \n",
              "4   Vehicle simulation            SCS Software            SCS Software  "
            ],
            "text/html": [
              "\n",
              "  <div id=\"df-0c522154-24f0-4996-ac6a-812c3e1782a7\">\n",
              "    <div class=\"colab-df-container\">\n",
              "      <div>\n",
              "<style scoped>\n",
              "    .dataframe tbody tr th:only-of-type {\n",
              "        vertical-align: middle;\n",
              "    }\n",
              "\n",
              "    .dataframe tbody tr th {\n",
              "        vertical-align: top;\n",
              "    }\n",
              "\n",
              "    .dataframe thead th {\n",
              "        text-align: right;\n",
              "    }\n",
              "</style>\n",
              "<table border=\"1\" class=\"dataframe\">\n",
              "  <thead>\n",
              "    <tr style=\"text-align: right;\">\n",
              "      <th></th>\n",
              "      <th>Name</th>\n",
              "      <th>Sales</th>\n",
              "      <th>Series</th>\n",
              "      <th>Release</th>\n",
              "      <th>Genre</th>\n",
              "      <th>Developer</th>\n",
              "      <th>Publisher</th>\n",
              "    </tr>\n",
              "  </thead>\n",
              "  <tbody>\n",
              "    <tr>\n",
              "      <th>0</th>\n",
              "      <td>PlayerUnknown's Battlegrounds</td>\n",
              "      <td>42.0</td>\n",
              "      <td>NaN</td>\n",
              "      <td>Dec-17</td>\n",
              "      <td>Battle royale</td>\n",
              "      <td>PUBG Studios</td>\n",
              "      <td>Krafton</td>\n",
              "    </tr>\n",
              "    <tr>\n",
              "      <th>1</th>\n",
              "      <td>Diablo III</td>\n",
              "      <td>20.0</td>\n",
              "      <td>Diablo</td>\n",
              "      <td>May-12</td>\n",
              "      <td>Action role-playing</td>\n",
              "      <td>Blizzard Entertainment</td>\n",
              "      <td>Blizzard Entertainment</td>\n",
              "    </tr>\n",
              "    <tr>\n",
              "      <th>2</th>\n",
              "      <td>Fall Guys</td>\n",
              "      <td>10.0</td>\n",
              "      <td>NaN</td>\n",
              "      <td>Aug-20</td>\n",
              "      <td>Battle royale</td>\n",
              "      <td>Mediatonic</td>\n",
              "      <td>Devolver Digital</td>\n",
              "    </tr>\n",
              "    <tr>\n",
              "      <th>3</th>\n",
              "      <td>Rust</td>\n",
              "      <td>9.0</td>\n",
              "      <td>NaN</td>\n",
              "      <td>Feb-18</td>\n",
              "      <td>Survival</td>\n",
              "      <td>Facepunch Studios</td>\n",
              "      <td>Facepunch Studios</td>\n",
              "    </tr>\n",
              "    <tr>\n",
              "      <th>4</th>\n",
              "      <td>Euro Truck Simulator 2</td>\n",
              "      <td>6.5</td>\n",
              "      <td>Truck Simulator</td>\n",
              "      <td>Oct-12</td>\n",
              "      <td>Vehicle simulation</td>\n",
              "      <td>SCS Software</td>\n",
              "      <td>SCS Software</td>\n",
              "    </tr>\n",
              "  </tbody>\n",
              "</table>\n",
              "</div>\n",
              "      <button class=\"colab-df-convert\" onclick=\"convertToInteractive('df-0c522154-24f0-4996-ac6a-812c3e1782a7')\"\n",
              "              title=\"Convert this dataframe to an interactive table.\"\n",
              "              style=\"display:none;\">\n",
              "        \n",
              "  <svg xmlns=\"http://www.w3.org/2000/svg\" height=\"24px\"viewBox=\"0 0 24 24\"\n",
              "       width=\"24px\">\n",
              "    <path d=\"M0 0h24v24H0V0z\" fill=\"none\"/>\n",
              "    <path d=\"M18.56 5.44l.94 2.06.94-2.06 2.06-.94-2.06-.94-.94-2.06-.94 2.06-2.06.94zm-11 1L8.5 8.5l.94-2.06 2.06-.94-2.06-.94L8.5 2.5l-.94 2.06-2.06.94zm10 10l.94 2.06.94-2.06 2.06-.94-2.06-.94-.94-2.06-.94 2.06-2.06.94z\"/><path d=\"M17.41 7.96l-1.37-1.37c-.4-.4-.92-.59-1.43-.59-.52 0-1.04.2-1.43.59L10.3 9.45l-7.72 7.72c-.78.78-.78 2.05 0 2.83L4 21.41c.39.39.9.59 1.41.59.51 0 1.02-.2 1.41-.59l7.78-7.78 2.81-2.81c.8-.78.8-2.07 0-2.86zM5.41 20L4 18.59l7.72-7.72 1.47 1.35L5.41 20z\"/>\n",
              "  </svg>\n",
              "      </button>\n",
              "      \n",
              "  <style>\n",
              "    .colab-df-container {\n",
              "      display:flex;\n",
              "      flex-wrap:wrap;\n",
              "      gap: 12px;\n",
              "    }\n",
              "\n",
              "    .colab-df-convert {\n",
              "      background-color: #E8F0FE;\n",
              "      border: none;\n",
              "      border-radius: 50%;\n",
              "      cursor: pointer;\n",
              "      display: none;\n",
              "      fill: #1967D2;\n",
              "      height: 32px;\n",
              "      padding: 0 0 0 0;\n",
              "      width: 32px;\n",
              "    }\n",
              "\n",
              "    .colab-df-convert:hover {\n",
              "      background-color: #E2EBFA;\n",
              "      box-shadow: 0px 1px 2px rgba(60, 64, 67, 0.3), 0px 1px 3px 1px rgba(60, 64, 67, 0.15);\n",
              "      fill: #174EA6;\n",
              "    }\n",
              "\n",
              "    [theme=dark] .colab-df-convert {\n",
              "      background-color: #3B4455;\n",
              "      fill: #D2E3FC;\n",
              "    }\n",
              "\n",
              "    [theme=dark] .colab-df-convert:hover {\n",
              "      background-color: #434B5C;\n",
              "      box-shadow: 0px 1px 3px 1px rgba(0, 0, 0, 0.15);\n",
              "      filter: drop-shadow(0px 1px 2px rgba(0, 0, 0, 0.3));\n",
              "      fill: #FFFFFF;\n",
              "    }\n",
              "  </style>\n",
              "\n",
              "      <script>\n",
              "        const buttonEl =\n",
              "          document.querySelector('#df-0c522154-24f0-4996-ac6a-812c3e1782a7 button.colab-df-convert');\n",
              "        buttonEl.style.display =\n",
              "          google.colab.kernel.accessAllowed ? 'block' : 'none';\n",
              "\n",
              "        async function convertToInteractive(key) {\n",
              "          const element = document.querySelector('#df-0c522154-24f0-4996-ac6a-812c3e1782a7');\n",
              "          const dataTable =\n",
              "            await google.colab.kernel.invokeFunction('convertToInteractive',\n",
              "                                                     [key], {});\n",
              "          if (!dataTable) return;\n",
              "\n",
              "          const docLinkHtml = 'Like what you see? Visit the ' +\n",
              "            '<a target=\"_blank\" href=https://colab.research.google.com/notebooks/data_table.ipynb>data table notebook</a>'\n",
              "            + ' to learn more about interactive tables.';\n",
              "          element.innerHTML = '';\n",
              "          dataTable['output_type'] = 'display_data';\n",
              "          await google.colab.output.renderOutput(dataTable, element);\n",
              "          const docLink = document.createElement('div');\n",
              "          docLink.innerHTML = docLinkHtml;\n",
              "          element.appendChild(docLink);\n",
              "        }\n",
              "      </script>\n",
              "    </div>\n",
              "  </div>\n",
              "  "
            ]
          },
          "metadata": {},
          "execution_count": 223
        }
      ]
    },
    {
      "cell_type": "markdown",
      "source": [
        "#**Data Preprocessing**"
      ],
      "metadata": {
        "id": "Ei-3ILKymeQi"
      }
    },
    {
      "cell_type": "code",
      "source": [
        "# Memisahkan bulan dan tahun dari kolom Release\n",
        "d = pd.Series(df['Release'])\n",
        "df['Month'] = d.str.split(\"-\", expand = True)[0]\n",
        "df['Year'] = d.str.split(\"-\", expand = True)[1]"
      ],
      "metadata": {
        "id": "iTcCuIvsRCum"
      },
      "execution_count": null,
      "outputs": []
    },
    {
      "cell_type": "code",
      "source": [
        "# Mengubah bulan ke integer berdasarkan bulannya\n",
        "def months(Month):\n",
        "  if Month == 'Dec':\n",
        "    Month = 12\n",
        "  if Month == 'Nov':\n",
        "    Month = 11\n",
        "  if Month == 'Oct':\n",
        "    Month = 10\n",
        "  if Month == 'Sep':\n",
        "    Month = 9\n",
        "  if Month == 'Aug':\n",
        "    Month = 8\n",
        "  if Month == 'Jul':\n",
        "    Month = 7\n",
        "  if Month == 'Jun':\n",
        "    Month = 6\n",
        "  if Month == 'May':\n",
        "    Month = 5\n",
        "  if Month == 'Apr':\n",
        "    Month = 4\n",
        "  if Month == 'Mar':\n",
        "    Month = 3\n",
        "  if Month == 'Feb':\n",
        "    Month = 2\n",
        "  if Month == 'Jan':\n",
        "    Month = 1\n",
        "  return Month\n",
        "    "
      ],
      "metadata": {
        "id": "R-uwErbJRfIg"
      },
      "execution_count": null,
      "outputs": []
    },
    {
      "cell_type": "code",
      "source": [
        "# Menerapkan fungsi\n",
        "df['Month'] = df['Month'].apply(months)"
      ],
      "metadata": {
        "id": "E-lk2QmhSUXG"
      },
      "execution_count": null,
      "outputs": []
    },
    {
      "cell_type": "code",
      "source": [
        "# Membuat random number untuk tanggal\n",
        "p = np.random.randint(15)\n",
        "c = str(p)"
      ],
      "metadata": {
        "id": "0ZD9V7HMSqp_"
      },
      "execution_count": null,
      "outputs": []
    },
    {
      "cell_type": "code",
      "source": [
        "# Menggabungkan bulan dan tahun ke satu kolom beserta tanggal yang dibuat dari random number\n",
        "df['Release_Date'] = df.Month.astype(str) + '/' + c + '/' + df.Year.astype(str)"
      ],
      "metadata": {
        "id": "vzYYQ0s9TPrD"
      },
      "execution_count": null,
      "outputs": []
    },
    {
      "cell_type": "code",
      "source": [
        "# Mengubah kolom ke datetime\n",
        "df['Release_Date'] = pd.to_datetime(df['Release_Date'])"
      ],
      "metadata": {
        "id": "ugzkTNhJTu_H"
      },
      "execution_count": null,
      "outputs": []
    },
    {
      "cell_type": "code",
      "source": [
        "# Membuang kolom yang sudah tidak digunakan lalu menyusun ulang kolom\n",
        "df.drop(columns = ['Release', 'Month', 'Year'], axis = 1, inplace = True)\n",
        "df = df.reindex(columns = ['Name', 'Release_Date', 'Sales', 'Series', 'Genre', 'Developer', 'Publisher'])\n",
        "df.info() "
      ],
      "metadata": {
        "colab": {
          "base_uri": "https://localhost:8080/"
        },
        "id": "3kFRi1P0T8kI",
        "outputId": "1880e610-79ab-4eae-96f9-a0b822bc6efd"
      },
      "execution_count": null,
      "outputs": [
        {
          "output_type": "stream",
          "name": "stdout",
          "text": [
            "<class 'pandas.core.frame.DataFrame'>\n",
            "RangeIndex: 49 entries, 0 to 48\n",
            "Data columns (total 7 columns):\n",
            " #   Column        Non-Null Count  Dtype         \n",
            "---  ------        --------------  -----         \n",
            " 0   Name          49 non-null     object        \n",
            " 1   Release_Date  49 non-null     datetime64[ns]\n",
            " 2   Sales         49 non-null     float64       \n",
            " 3   Series        27 non-null     object        \n",
            " 4   Genre         49 non-null     object        \n",
            " 5   Developer     49 non-null     object        \n",
            " 6   Publisher     49 non-null     object        \n",
            "dtypes: datetime64[ns](1), float64(1), object(5)\n",
            "memory usage: 2.8+ KB\n"
          ]
        }
      ]
    },
    {
      "cell_type": "code",
      "source": [
        "# Membuat kelas berdasarkan kolom Sales\n",
        "def m(Sales, Grade):\n",
        "  if Sales > 30:\n",
        "    Grade = 'A'\n",
        "  elif 10 <= Sales <= 30:\n",
        "    Grade = 'B'\n",
        "  elif 5 <= Sales < 10:\n",
        "    Grade = 'C'\n",
        "  elif 2 <= Sales < 5:\n",
        "    Grade = 'D'\n",
        "  elif Sales < 2:\n",
        "    Grade = 'F'\n",
        "  return Grade "
      ],
      "metadata": {
        "id": "i_22m3Z8ThLI"
      },
      "execution_count": null,
      "outputs": []
    },
    {
      "cell_type": "code",
      "source": [
        "# Membuat dan menerapkan kolom Grade\n",
        "df['Grade'] = 0\n",
        "df['Grade'] = df.apply(lambda x:m(x['Sales'], x['Grade']), axis = 1)\n",
        "df.head()"
      ],
      "metadata": {
        "colab": {
          "base_uri": "https://localhost:8080/",
          "height": 206
        },
        "id": "f3_8VGQCVnQg",
        "outputId": "56e8302e-7f25-4ecb-d652-cd488f91a0f9"
      },
      "execution_count": null,
      "outputs": [
        {
          "output_type": "execute_result",
          "data": {
            "text/plain": [
              "                            Name Release_Date  Sales           Series  \\\n",
              "0  PlayerUnknown's Battlegrounds   2017-12-10   42.0              NaN   \n",
              "1                     Diablo III   2012-05-10   20.0           Diablo   \n",
              "2                      Fall Guys   2020-08-10   10.0              NaN   \n",
              "3                           Rust   2018-02-10    9.0              NaN   \n",
              "4         Euro Truck Simulator 2   2012-10-10    6.5  Truck Simulator   \n",
              "\n",
              "                 Genre               Developer               Publisher Grade  \n",
              "0        Battle royale            PUBG Studios                 Krafton     A  \n",
              "1  Action role-playing  Blizzard Entertainment  Blizzard Entertainment     B  \n",
              "2        Battle royale              Mediatonic        Devolver Digital     B  \n",
              "3             Survival       Facepunch Studios       Facepunch Studios     C  \n",
              "4   Vehicle simulation            SCS Software            SCS Software     C  "
            ],
            "text/html": [
              "\n",
              "  <div id=\"df-1f371e6d-d6cd-4186-ae6c-0d8caa0375b2\">\n",
              "    <div class=\"colab-df-container\">\n",
              "      <div>\n",
              "<style scoped>\n",
              "    .dataframe tbody tr th:only-of-type {\n",
              "        vertical-align: middle;\n",
              "    }\n",
              "\n",
              "    .dataframe tbody tr th {\n",
              "        vertical-align: top;\n",
              "    }\n",
              "\n",
              "    .dataframe thead th {\n",
              "        text-align: right;\n",
              "    }\n",
              "</style>\n",
              "<table border=\"1\" class=\"dataframe\">\n",
              "  <thead>\n",
              "    <tr style=\"text-align: right;\">\n",
              "      <th></th>\n",
              "      <th>Name</th>\n",
              "      <th>Release_Date</th>\n",
              "      <th>Sales</th>\n",
              "      <th>Series</th>\n",
              "      <th>Genre</th>\n",
              "      <th>Developer</th>\n",
              "      <th>Publisher</th>\n",
              "      <th>Grade</th>\n",
              "    </tr>\n",
              "  </thead>\n",
              "  <tbody>\n",
              "    <tr>\n",
              "      <th>0</th>\n",
              "      <td>PlayerUnknown's Battlegrounds</td>\n",
              "      <td>2017-12-10</td>\n",
              "      <td>42.0</td>\n",
              "      <td>NaN</td>\n",
              "      <td>Battle royale</td>\n",
              "      <td>PUBG Studios</td>\n",
              "      <td>Krafton</td>\n",
              "      <td>A</td>\n",
              "    </tr>\n",
              "    <tr>\n",
              "      <th>1</th>\n",
              "      <td>Diablo III</td>\n",
              "      <td>2012-05-10</td>\n",
              "      <td>20.0</td>\n",
              "      <td>Diablo</td>\n",
              "      <td>Action role-playing</td>\n",
              "      <td>Blizzard Entertainment</td>\n",
              "      <td>Blizzard Entertainment</td>\n",
              "      <td>B</td>\n",
              "    </tr>\n",
              "    <tr>\n",
              "      <th>2</th>\n",
              "      <td>Fall Guys</td>\n",
              "      <td>2020-08-10</td>\n",
              "      <td>10.0</td>\n",
              "      <td>NaN</td>\n",
              "      <td>Battle royale</td>\n",
              "      <td>Mediatonic</td>\n",
              "      <td>Devolver Digital</td>\n",
              "      <td>B</td>\n",
              "    </tr>\n",
              "    <tr>\n",
              "      <th>3</th>\n",
              "      <td>Rust</td>\n",
              "      <td>2018-02-10</td>\n",
              "      <td>9.0</td>\n",
              "      <td>NaN</td>\n",
              "      <td>Survival</td>\n",
              "      <td>Facepunch Studios</td>\n",
              "      <td>Facepunch Studios</td>\n",
              "      <td>C</td>\n",
              "    </tr>\n",
              "    <tr>\n",
              "      <th>4</th>\n",
              "      <td>Euro Truck Simulator 2</td>\n",
              "      <td>2012-10-10</td>\n",
              "      <td>6.5</td>\n",
              "      <td>Truck Simulator</td>\n",
              "      <td>Vehicle simulation</td>\n",
              "      <td>SCS Software</td>\n",
              "      <td>SCS Software</td>\n",
              "      <td>C</td>\n",
              "    </tr>\n",
              "  </tbody>\n",
              "</table>\n",
              "</div>\n",
              "      <button class=\"colab-df-convert\" onclick=\"convertToInteractive('df-1f371e6d-d6cd-4186-ae6c-0d8caa0375b2')\"\n",
              "              title=\"Convert this dataframe to an interactive table.\"\n",
              "              style=\"display:none;\">\n",
              "        \n",
              "  <svg xmlns=\"http://www.w3.org/2000/svg\" height=\"24px\"viewBox=\"0 0 24 24\"\n",
              "       width=\"24px\">\n",
              "    <path d=\"M0 0h24v24H0V0z\" fill=\"none\"/>\n",
              "    <path d=\"M18.56 5.44l.94 2.06.94-2.06 2.06-.94-2.06-.94-.94-2.06-.94 2.06-2.06.94zm-11 1L8.5 8.5l.94-2.06 2.06-.94-2.06-.94L8.5 2.5l-.94 2.06-2.06.94zm10 10l.94 2.06.94-2.06 2.06-.94-2.06-.94-.94-2.06-.94 2.06-2.06.94z\"/><path d=\"M17.41 7.96l-1.37-1.37c-.4-.4-.92-.59-1.43-.59-.52 0-1.04.2-1.43.59L10.3 9.45l-7.72 7.72c-.78.78-.78 2.05 0 2.83L4 21.41c.39.39.9.59 1.41.59.51 0 1.02-.2 1.41-.59l7.78-7.78 2.81-2.81c.8-.78.8-2.07 0-2.86zM5.41 20L4 18.59l7.72-7.72 1.47 1.35L5.41 20z\"/>\n",
              "  </svg>\n",
              "      </button>\n",
              "      \n",
              "  <style>\n",
              "    .colab-df-container {\n",
              "      display:flex;\n",
              "      flex-wrap:wrap;\n",
              "      gap: 12px;\n",
              "    }\n",
              "\n",
              "    .colab-df-convert {\n",
              "      background-color: #E8F0FE;\n",
              "      border: none;\n",
              "      border-radius: 50%;\n",
              "      cursor: pointer;\n",
              "      display: none;\n",
              "      fill: #1967D2;\n",
              "      height: 32px;\n",
              "      padding: 0 0 0 0;\n",
              "      width: 32px;\n",
              "    }\n",
              "\n",
              "    .colab-df-convert:hover {\n",
              "      background-color: #E2EBFA;\n",
              "      box-shadow: 0px 1px 2px rgba(60, 64, 67, 0.3), 0px 1px 3px 1px rgba(60, 64, 67, 0.15);\n",
              "      fill: #174EA6;\n",
              "    }\n",
              "\n",
              "    [theme=dark] .colab-df-convert {\n",
              "      background-color: #3B4455;\n",
              "      fill: #D2E3FC;\n",
              "    }\n",
              "\n",
              "    [theme=dark] .colab-df-convert:hover {\n",
              "      background-color: #434B5C;\n",
              "      box-shadow: 0px 1px 3px 1px rgba(0, 0, 0, 0.15);\n",
              "      filter: drop-shadow(0px 1px 2px rgba(0, 0, 0, 0.3));\n",
              "      fill: #FFFFFF;\n",
              "    }\n",
              "  </style>\n",
              "\n",
              "      <script>\n",
              "        const buttonEl =\n",
              "          document.querySelector('#df-1f371e6d-d6cd-4186-ae6c-0d8caa0375b2 button.colab-df-convert');\n",
              "        buttonEl.style.display =\n",
              "          google.colab.kernel.accessAllowed ? 'block' : 'none';\n",
              "\n",
              "        async function convertToInteractive(key) {\n",
              "          const element = document.querySelector('#df-1f371e6d-d6cd-4186-ae6c-0d8caa0375b2');\n",
              "          const dataTable =\n",
              "            await google.colab.kernel.invokeFunction('convertToInteractive',\n",
              "                                                     [key], {});\n",
              "          if (!dataTable) return;\n",
              "\n",
              "          const docLinkHtml = 'Like what you see? Visit the ' +\n",
              "            '<a target=\"_blank\" href=https://colab.research.google.com/notebooks/data_table.ipynb>data table notebook</a>'\n",
              "            + ' to learn more about interactive tables.';\n",
              "          element.innerHTML = '';\n",
              "          dataTable['output_type'] = 'display_data';\n",
              "          await google.colab.output.renderOutput(dataTable, element);\n",
              "          const docLink = document.createElement('div');\n",
              "          docLink.innerHTML = docLinkHtml;\n",
              "          element.appendChild(docLink);\n",
              "        }\n",
              "      </script>\n",
              "    </div>\n",
              "  </div>\n",
              "  "
            ]
          },
          "metadata": {},
          "execution_count": 232
        }
      ]
    },
    {
      "cell_type": "markdown",
      "source": [
        "#**Eksplorasi data dan Visualisasi**"
      ],
      "metadata": {
        "id": "5FGYj67xWGSu"
      }
    },
    {
      "cell_type": "markdown",
      "source": [
        "**Release Date**"
      ],
      "metadata": {
        "id": "-UAJWJTWnwNZ"
      }
    },
    {
      "cell_type": "code",
      "source": [
        "# Mengetahui tanggal rilis terlama (2012) dan terbaru (2021)\n",
        "df.Release_Date.describe(datetime_is_numeric = True)"
      ],
      "metadata": {
        "colab": {
          "base_uri": "https://localhost:8080/"
        },
        "id": "kGKKdoaPWIVe",
        "outputId": "2346a884-1310-42bb-f114-99faf4ca1e1b"
      },
      "execution_count": null,
      "outputs": [
        {
          "output_type": "execute_result",
          "data": {
            "text/plain": [
              "count                               49\n",
              "mean     2015-10-21 18:36:44.081632768\n",
              "min                2012-02-10 00:00:00\n",
              "25%                2013-09-10 00:00:00\n",
              "50%                2015-11-10 00:00:00\n",
              "75%                2017-09-10 00:00:00\n",
              "max                2021-02-10 00:00:00\n",
              "Name: Release_Date, dtype: object"
            ]
          },
          "metadata": {},
          "execution_count": 233
        }
      ]
    },
    {
      "cell_type": "code",
      "source": [
        "# Visualisasi statistik perilisan game\n",
        "df.groupby(df['Release_Date'].dt.strftime('%G')).Sales.sum().plot(color = 'lightblue', lw = 4, ls = '-', marker = 'X', figsize = (10, 10))"
      ],
      "metadata": {
        "colab": {
          "base_uri": "https://localhost:8080/",
          "height": 624
        },
        "id": "T7qqcPoBZaba",
        "outputId": "557b87f2-d76f-456e-d165-8fcfe75791ce"
      },
      "execution_count": null,
      "outputs": [
        {
          "output_type": "execute_result",
          "data": {
            "text/plain": [
              "<matplotlib.axes._subplots.AxesSubplot at 0x7f381cd578d0>"
            ]
          },
          "metadata": {},
          "execution_count": 234
        },
        {
          "output_type": "display_data",
          "data": {
            "text/plain": [
              "<Figure size 720x720 with 1 Axes>"
            ],
            "image/png": "[encoded data removed]"
          },
          "metadata": {
            "needs_background": "light"
          }
        }
      ]
    },
    {
      "cell_type": "markdown",
      "source": [
        "**Sales**"
      ],
      "metadata": {
        "id": "zqEJXouUnPzE"
      }
    },
    {
      "cell_type": "code",
      "source": [
        "# Menyortir Games berdasarkan Sales\n",
        "df_sorted = df.sort_values(by = \"Sales\", ascending = False)\n",
        "df_sorted.head()"
      ],
      "metadata": {
        "colab": {
          "base_uri": "https://localhost:8080/",
          "height": 206
        },
        "id": "AIm9Um55f6V0",
        "outputId": "137768d8-fc1d-4649-ca88-e97dfaf017bf"
      },
      "execution_count": null,
      "outputs": [
        {
          "output_type": "execute_result",
          "data": {
            "text/plain": [
              "                            Name Release_Date  Sales           Series  \\\n",
              "0  PlayerUnknown's Battlegrounds   2017-12-10   42.0              NaN   \n",
              "1                     Diablo III   2012-05-10   20.0           Diablo   \n",
              "2                      Fall Guys   2020-08-10   10.0              NaN   \n",
              "3                           Rust   2018-02-10    9.0              NaN   \n",
              "4         Euro Truck Simulator 2   2012-10-10    6.5  Truck Simulator   \n",
              "\n",
              "                 Genre               Developer               Publisher Grade  \n",
              "0        Battle royale            PUBG Studios                 Krafton     A  \n",
              "1  Action role-playing  Blizzard Entertainment  Blizzard Entertainment     B  \n",
              "2        Battle royale              Mediatonic        Devolver Digital     B  \n",
              "3             Survival       Facepunch Studios       Facepunch Studios     C  \n",
              "4   Vehicle simulation            SCS Software            SCS Software     C  "
            ],
            "text/html": [
              "\n",
              "  <div id=\"df-725fa15f-831c-4995-9c73-1c653e1faa7c\">\n",
              "    <div class=\"colab-df-container\">\n",
              "      <div>\n",
              "<style scoped>\n",
              "    .dataframe tbody tr th:only-of-type {\n",
              "        vertical-align: middle;\n",
              "    }\n",
              "\n",
              "    .dataframe tbody tr th {\n",
              "        vertical-align: top;\n",
              "    }\n",
              "\n",
              "    .dataframe thead th {\n",
              "        text-align: right;\n",
              "    }\n",
              "</style>\n",
              "<table border=\"1\" class=\"dataframe\">\n",
              "  <thead>\n",
              "    <tr style=\"text-align: right;\">\n",
              "      <th></th>\n",
              "      <th>Name</th>\n",
              "      <th>Release_Date</th>\n",
              "      <th>Sales</th>\n",
              "      <th>Series</th>\n",
              "      <th>Genre</th>\n",
              "      <th>Developer</th>\n",
              "      <th>Publisher</th>\n",
              "      <th>Grade</th>\n",
              "    </tr>\n",
              "  </thead>\n",
              "  <tbody>\n",
              "    <tr>\n",
              "      <th>0</th>\n",
              "      <td>PlayerUnknown's Battlegrounds</td>\n",
              "      <td>2017-12-10</td>\n",
              "      <td>42.0</td>\n",
              "      <td>NaN</td>\n",
              "      <td>Battle royale</td>\n",
              "      <td>PUBG Studios</td>\n",
              "      <td>Krafton</td>\n",
              "      <td>A</td>\n",
              "    </tr>\n",
              "    <tr>\n",
              "      <th>1</th>\n",
              "      <td>Diablo III</td>\n",
              "      <td>2012-05-10</td>\n",
              "      <td>20.0</td>\n",
              "      <td>Diablo</td>\n",
              "      <td>Action role-playing</td>\n",
              "      <td>Blizzard Entertainment</td>\n",
              "      <td>Blizzard Entertainment</td>\n",
              "      <td>B</td>\n",
              "    </tr>\n",
              "    <tr>\n",
              "      <th>2</th>\n",
              "      <td>Fall Guys</td>\n",
              "      <td>2020-08-10</td>\n",
              "      <td>10.0</td>\n",
              "      <td>NaN</td>\n",
              "      <td>Battle royale</td>\n",
              "      <td>Mediatonic</td>\n",
              "      <td>Devolver Digital</td>\n",
              "      <td>B</td>\n",
              "    </tr>\n",
              "    <tr>\n",
              "      <th>3</th>\n",
              "      <td>Rust</td>\n",
              "      <td>2018-02-10</td>\n",
              "      <td>9.0</td>\n",
              "      <td>NaN</td>\n",
              "      <td>Survival</td>\n",
              "      <td>Facepunch Studios</td>\n",
              "      <td>Facepunch Studios</td>\n",
              "      <td>C</td>\n",
              "    </tr>\n",
              "    <tr>\n",
              "      <th>4</th>\n",
              "      <td>Euro Truck Simulator 2</td>\n",
              "      <td>2012-10-10</td>\n",
              "      <td>6.5</td>\n",
              "      <td>Truck Simulator</td>\n",
              "      <td>Vehicle simulation</td>\n",
              "      <td>SCS Software</td>\n",
              "      <td>SCS Software</td>\n",
              "      <td>C</td>\n",
              "    </tr>\n",
              "  </tbody>\n",
              "</table>\n",
              "</div>\n",
              "      <button class=\"colab-df-convert\" onclick=\"convertToInteractive('df-725fa15f-831c-4995-9c73-1c653e1faa7c')\"\n",
              "              title=\"Convert this dataframe to an interactive table.\"\n",
              "              style=\"display:none;\">\n",
              "        \n",
              "  <svg xmlns=\"http://www.w3.org/2000/svg\" height=\"24px\"viewBox=\"0 0 24 24\"\n",
              "       width=\"24px\">\n",
              "    <path d=\"M0 0h24v24H0V0z\" fill=\"none\"/>\n",
              "    <path d=\"M18.56 5.44l.94 2.06.94-2.06 2.06-.94-2.06-.94-.94-2.06-.94 2.06-2.06.94zm-11 1L8.5 8.5l.94-2.06 2.06-.94-2.06-.94L8.5 2.5l-.94 2.06-2.06.94zm10 10l.94 2.06.94-2.06 2.06-.94-2.06-.94-.94-2.06-.94 2.06-2.06.94z\"/><path d=\"M17.41 7.96l-1.37-1.37c-.4-.4-.92-.59-1.43-.59-.52 0-1.04.2-1.43.59L10.3 9.45l-7.72 7.72c-.78.78-.78 2.05 0 2.83L4 21.41c.39.39.9.59 1.41.59.51 0 1.02-.2 1.41-.59l7.78-7.78 2.81-2.81c.8-.78.8-2.07 0-2.86zM5.41 20L4 18.59l7.72-7.72 1.47 1.35L5.41 20z\"/>\n",
              "  </svg>\n",
              "      </button>\n",
              "      \n",
              "  <style>\n",
              "    .colab-df-container {\n",
              "      display:flex;\n",
              "      flex-wrap:wrap;\n",
              "      gap: 12px;\n",
              "    }\n",
              "\n",
              "    .colab-df-convert {\n",
              "      background-color: #E8F0FE;\n",
              "      border: none;\n",
              "      border-radius: 50%;\n",
              "      cursor: pointer;\n",
              "      display: none;\n",
              "      fill: #1967D2;\n",
              "      height: 32px;\n",
              "      padding: 0 0 0 0;\n",
              "      width: 32px;\n",
              "    }\n",
              "\n",
              "    .colab-df-convert:hover {\n",
              "      background-color: #E2EBFA;\n",
              "      box-shadow: 0px 1px 2px rgba(60, 64, 67, 0.3), 0px 1px 3px 1px rgba(60, 64, 67, 0.15);\n",
              "      fill: #174EA6;\n",
              "    }\n",
              "\n",
              "    [theme=dark] .colab-df-convert {\n",
              "      background-color: #3B4455;\n",
              "      fill: #D2E3FC;\n",
              "    }\n",
              "\n",
              "    [theme=dark] .colab-df-convert:hover {\n",
              "      background-color: #434B5C;\n",
              "      box-shadow: 0px 1px 3px 1px rgba(0, 0, 0, 0.15);\n",
              "      filter: drop-shadow(0px 1px 2px rgba(0, 0, 0, 0.3));\n",
              "      fill: #FFFFFF;\n",
              "    }\n",
              "  </style>\n",
              "\n",
              "      <script>\n",
              "        const buttonEl =\n",
              "          document.querySelector('#df-725fa15f-831c-4995-9c73-1c653e1faa7c button.colab-df-convert');\n",
              "        buttonEl.style.display =\n",
              "          google.colab.kernel.accessAllowed ? 'block' : 'none';\n",
              "\n",
              "        async function convertToInteractive(key) {\n",
              "          const element = document.querySelector('#df-725fa15f-831c-4995-9c73-1c653e1faa7c');\n",
              "          const dataTable =\n",
              "            await google.colab.kernel.invokeFunction('convertToInteractive',\n",
              "                                                     [key], {});\n",
              "          if (!dataTable) return;\n",
              "\n",
              "          const docLinkHtml = 'Like what you see? Visit the ' +\n",
              "            '<a target=\"_blank\" href=https://colab.research.google.com/notebooks/data_table.ipynb>data table notebook</a>'\n",
              "            + ' to learn more about interactive tables.';\n",
              "          element.innerHTML = '';\n",
              "          dataTable['output_type'] = 'display_data';\n",
              "          await google.colab.output.renderOutput(dataTable, element);\n",
              "          const docLink = document.createElement('div');\n",
              "          docLink.innerHTML = docLinkHtml;\n",
              "          element.appendChild(docLink);\n",
              "        }\n",
              "      </script>\n",
              "    </div>\n",
              "  </div>\n",
              "  "
            ]
          },
          "metadata": {},
          "execution_count": 235
        }
      ]
    },
    {
      "cell_type": "code",
      "source": [
        "# Visualisasi Sales\n",
        "sns.displot(df.Sales, bins = 3, color = 'lightblue')"
      ],
      "metadata": {
        "colab": {
          "base_uri": "https://localhost:8080/",
          "height": 387
        },
        "id": "T0HECNVJYmik",
        "outputId": "e011c10f-c490-4883-8761-06d678e907c7"
      },
      "execution_count": null,
      "outputs": [
        {
          "output_type": "execute_result",
          "data": {
            "text/plain": [
              "<seaborn.axisgrid.FacetGrid at 0x7f381cf00810>"
            ]
          },
          "metadata": {},
          "execution_count": 236
        },
        {
          "output_type": "display_data",
          "data": {
            "text/plain": [
              "<Figure size 360x360 with 1 Axes>"
            ],
            "image/png": "[encoded data removed]"
          },
          "metadata": {
            "needs_background": "light"
          }
        }
      ]
    },
    {
      "cell_type": "markdown",
      "source": [
        "**Sales Grade**"
      ],
      "metadata": {
        "id": "K7ZDQXNQa0JG"
      }
    },
    {
      "cell_type": "code",
      "source": [
        "# Menghitung kelas Sales Grade\n",
        "df.Grade.nunique()"
      ],
      "metadata": {
        "colab": {
          "base_uri": "https://localhost:8080/"
        },
        "id": "KKyr1FmVaqMx",
        "outputId": "44a7a03c-bfe1-4f2f-b074-90187b11911e"
      },
      "execution_count": null,
      "outputs": [
        {
          "output_type": "execute_result",
          "data": {
            "text/plain": [
              "5"
            ]
          },
          "metadata": {},
          "execution_count": 237
        }
      ]
    },
    {
      "cell_type": "code",
      "source": [
        "# Visualisasi Grade\n",
        "plt.figure(figsize = (10, 5))\n",
        "sns.countplot(df.Grade)"
      ],
      "metadata": {
        "colab": {
          "base_uri": "https://localhost:8080/",
          "height": 409
        },
        "id": "2kt-pRI9bKqY",
        "outputId": "e840a0a7-6c63-4ecd-abd9-a08605f0b5d4"
      },
      "execution_count": null,
      "outputs": [
        {
          "output_type": "stream",
          "name": "stderr",
          "text": [
            "/usr/local/lib/python3.7/dist-packages/seaborn/_decorators.py:43: FutureWarning: Pass the following variable as a keyword arg: x. From version 0.12, the only valid positional argument will be `data`, and passing other arguments without an explicit keyword will result in an error or misinterpretation.\n",
            "  FutureWarning\n"
          ]
        },
        {
          "output_type": "execute_result",
          "data": {
            "text/plain": [
              "<matplotlib.axes._subplots.AxesSubplot at 0x7f381d4a9b90>"
            ]
          },
          "metadata": {},
          "execution_count": 238
        },
        {
          "output_type": "display_data",
          "data": {
            "text/plain": [
              "<Figure size 720x360 with 1 Axes>"
            ],
            "image/png": "[encoded data removed]"
          },
          "metadata": {
            "needs_background": "light"
          }
        }
      ]
    },
    {
      "cell_type": "markdown",
      "source": [
        "**Top Selling Games by Sales**"
      ],
      "metadata": {
        "id": "qHuEZ_q7gYh5"
      }
    },
    {
      "cell_type": "code",
      "source": [
        "# Memvisualisasikan Games terlaris berdasarkan Sales\n",
        "plt.figure(figsize = (12, 7))\n",
        "sns.barplot(x = 'Name', y = 'Sales', data = df_sorted[0:5])\n",
        "plt.ylabel(\"Sales (dalam juta)\", fontsize = 16)\n",
        "plt.xticks(rotation = 15)\n",
        "plt.xlabel('')\n",
        "plt.title(\"Top Selling Games by Sales\", fontsize = 20)\n",
        "plt.show"
      ],
      "metadata": {
        "colab": {
          "base_uri": "https://localhost:8080/",
          "height": 508
        },
        "id": "XU555qKUfkPw",
        "outputId": "52804662-7d84-455d-d669-661cf4432b60"
      },
      "execution_count": null,
      "outputs": [
        {
          "output_type": "execute_result",
          "data": {
            "text/plain": [
              "<function matplotlib.pyplot.show>"
            ]
          },
          "metadata": {},
          "execution_count": 239
        },
        {
          "output_type": "display_data",
          "data": {
            "text/plain": [
              "<Figure size 864x504 with 1 Axes>"
            ],
            "image/png": "[encoded data removed]"
          },
          "metadata": {
            "needs_background": "light"
          }
        }
      ]
    },
    {
      "cell_type": "markdown",
      "source": [
        "**Genre**"
      ],
      "metadata": {
        "id": "4iYsemzCbiiM"
      }
    },
    {
      "cell_type": "code",
      "source": [
        "# Menghitung banyak Genre\n",
        "df.Genre.nunique()"
      ],
      "metadata": {
        "colab": {
          "base_uri": "https://localhost:8080/"
        },
        "id": "85qxR9exbkfe",
        "outputId": "c4cc3315-1b19-43a2-f7f4-9cc217c2c790"
      },
      "execution_count": null,
      "outputs": [
        {
          "output_type": "execute_result",
          "data": {
            "text/plain": [
              "30"
            ]
          },
          "metadata": {},
          "execution_count": 240
        }
      ]
    },
    {
      "cell_type": "code",
      "source": [
        "# Menyortir Genre berdasarkan Sales\n",
        "df_by_genre = df.groupby('Genre', as_index = False)['Sales'].sum()\n",
        "df_by_genre = df_by_genre.sort_values(by = 'Sales', ascending = False)\n",
        "df_by_genre"
      ],
      "metadata": {
        "colab": {
          "base_uri": "https://localhost:8080/",
          "height": 990
        },
        "id": "dQPDFo7veDxU",
        "outputId": "dccea395-13e7-4eb1-928d-b80574c03977"
      },
      "execution_count": null,
      "outputs": [
        {
          "output_type": "execute_result",
          "data": {
            "text/plain": [
              "                                         Genre  Sales\n",
              "7                                Battle royale   52.0\n",
              "1                          Action role-playing   34.1\n",
              "24                                    Survival   25.0\n",
              "28                          Vehicle simulation    8.0\n",
              "8                                City-building    7.0\n",
              "9       Construction and management simulation    6.8\n",
              "26                            Tactical shooter    5.5\n",
              "14                                      MMORPG    5.0\n",
              "11                              Grand strategy    3.0\n",
              "12                           Graphic adventure    3.0\n",
              "27       Third-person shooter, survival horror    2.5\n",
              "18                          Real-time strategy    2.0\n",
              "25                             Survival horror    2.0\n",
              "29                     Visual novel, adventure    2.0\n",
              "22                                  Simulation    2.0\n",
              "4                             Action-adventure    2.0\n",
              "10                                    Fighting    2.0\n",
              "6                    Action-adventure, stealth    1.8\n",
              "17                     RTS, 4X, Grand Strategy    1.5\n",
              "3          Action role-playing, hack and slash    1.2\n",
              "15                                Maze, arcade    1.1\n",
              "2                     Action role-playing game    1.1\n",
              "21                                 Run and gun    1.0\n",
              "20                           Role-playing game    1.0\n",
              "23               Simulation, role-playing game    1.0\n",
              "19  Real-time strategy, grand strategy wargame    1.0\n",
              "16                                Metroidvania    1.0\n",
              "13                         Interactive fiction    1.0\n",
              "5                   Action-adventure, Survival    1.0\n",
              "0                                       Action    1.0"
            ],
            "text/html": [
              "\n",
              "  <div id=\"df-da7189b3-189b-4372-96e6-5f27de6f7064\">\n",
              "    <div class=\"colab-df-container\">\n",
              "      <div>\n",
              "<style scoped>\n",
              "    .dataframe tbody tr th:only-of-type {\n",
              "        vertical-align: middle;\n",
              "    }\n",
              "\n",
              "    .dataframe tbody tr th {\n",
              "        vertical-align: top;\n",
              "    }\n",
              "\n",
              "    .dataframe thead th {\n",
              "        text-align: right;\n",
              "    }\n",
              "</style>\n",
              "<table border=\"1\" class=\"dataframe\">\n",
              "  <thead>\n",
              "    <tr style=\"text-align: right;\">\n",
              "      <th></th>\n",
              "      <th>Genre</th>\n",
              "      <th>Sales</th>\n",
              "    </tr>\n",
              "  </thead>\n",
              "  <tbody>\n",
              "    <tr>\n",
              "      <th>7</th>\n",
              "      <td>Battle royale</td>\n",
              "      <td>52.0</td>\n",
              "    </tr>\n",
              "    <tr>\n",
              "      <th>1</th>\n",
              "      <td>Action role-playing</td>\n",
              "      <td>34.1</td>\n",
              "    </tr>\n",
              "    <tr>\n",
              "      <th>24</th>\n",
              "      <td>Survival</td>\n",
              "      <td>25.0</td>\n",
              "    </tr>\n",
              "    <tr>\n",
              "      <th>28</th>\n",
              "      <td>Vehicle simulation</td>\n",
              "      <td>8.0</td>\n",
              "    </tr>\n",
              "    <tr>\n",
              "      <th>8</th>\n",
              "      <td>City-building</td>\n",
              "      <td>7.0</td>\n",
              "    </tr>\n",
              "    <tr>\n",
              "      <th>9</th>\n",
              "      <td>Construction and management simulation</td>\n",
              "      <td>6.8</td>\n",
              "    </tr>\n",
              "    <tr>\n",
              "      <th>26</th>\n",
              "      <td>Tactical shooter</td>\n",
              "      <td>5.5</td>\n",
              "    </tr>\n",
              "    <tr>\n",
              "      <th>14</th>\n",
              "      <td>MMORPG</td>\n",
              "      <td>5.0</td>\n",
              "    </tr>\n",
              "    <tr>\n",
              "      <th>11</th>\n",
              "      <td>Grand strategy</td>\n",
              "      <td>3.0</td>\n",
              "    </tr>\n",
              "    <tr>\n",
              "      <th>12</th>\n",
              "      <td>Graphic adventure</td>\n",
              "      <td>3.0</td>\n",
              "    </tr>\n",
              "    <tr>\n",
              "      <th>27</th>\n",
              "      <td>Third-person shooter, survival horror</td>\n",
              "      <td>2.5</td>\n",
              "    </tr>\n",
              "    <tr>\n",
              "      <th>18</th>\n",
              "      <td>Real-time strategy</td>\n",
              "      <td>2.0</td>\n",
              "    </tr>\n",
              "    <tr>\n",
              "      <th>25</th>\n",
              "      <td>Survival horror</td>\n",
              "      <td>2.0</td>\n",
              "    </tr>\n",
              "    <tr>\n",
              "      <th>29</th>\n",
              "      <td>Visual novel, adventure</td>\n",
              "      <td>2.0</td>\n",
              "    </tr>\n",
              "    <tr>\n",
              "      <th>22</th>\n",
              "      <td>Simulation</td>\n",
              "      <td>2.0</td>\n",
              "    </tr>\n",
              "    <tr>\n",
              "      <th>4</th>\n",
              "      <td>Action-adventure</td>\n",
              "      <td>2.0</td>\n",
              "    </tr>\n",
              "    <tr>\n",
              "      <th>10</th>\n",
              "      <td>Fighting</td>\n",
              "      <td>2.0</td>\n",
              "    </tr>\n",
              "    <tr>\n",
              "      <th>6</th>\n",
              "      <td>Action-adventure, stealth</td>\n",
              "      <td>1.8</td>\n",
              "    </tr>\n",
              "    <tr>\n",
              "      <th>17</th>\n",
              "      <td>RTS, 4X, Grand Strategy</td>\n",
              "      <td>1.5</td>\n",
              "    </tr>\n",
              "    <tr>\n",
              "      <th>3</th>\n",
              "      <td>Action role-playing, hack and slash</td>\n",
              "      <td>1.2</td>\n",
              "    </tr>\n",
              "    <tr>\n",
              "      <th>15</th>\n",
              "      <td>Maze, arcade</td>\n",
              "      <td>1.1</td>\n",
              "    </tr>\n",
              "    <tr>\n",
              "      <th>2</th>\n",
              "      <td>Action role-playing game</td>\n",
              "      <td>1.1</td>\n",
              "    </tr>\n",
              "    <tr>\n",
              "      <th>21</th>\n",
              "      <td>Run and gun</td>\n",
              "      <td>1.0</td>\n",
              "    </tr>\n",
              "    <tr>\n",
              "      <th>20</th>\n",
              "      <td>Role-playing game</td>\n",
              "      <td>1.0</td>\n",
              "    </tr>\n",
              "    <tr>\n",
              "      <th>23</th>\n",
              "      <td>Simulation, role-playing game</td>\n",
              "      <td>1.0</td>\n",
              "    </tr>\n",
              "    <tr>\n",
              "      <th>19</th>\n",
              "      <td>Real-time strategy, grand strategy wargame</td>\n",
              "      <td>1.0</td>\n",
              "    </tr>\n",
              "    <tr>\n",
              "      <th>16</th>\n",
              "      <td>Metroidvania</td>\n",
              "      <td>1.0</td>\n",
              "    </tr>\n",
              "    <tr>\n",
              "      <th>13</th>\n",
              "      <td>Interactive fiction</td>\n",
              "      <td>1.0</td>\n",
              "    </tr>\n",
              "    <tr>\n",
              "      <th>5</th>\n",
              "      <td>Action-adventure, Survival</td>\n",
              "      <td>1.0</td>\n",
              "    </tr>\n",
              "    <tr>\n",
              "      <th>0</th>\n",
              "      <td>Action</td>\n",
              "      <td>1.0</td>\n",
              "    </tr>\n",
              "  </tbody>\n",
              "</table>\n",
              "</div>\n",
              "      <button class=\"colab-df-convert\" onclick=\"convertToInteractive('df-da7189b3-189b-4372-96e6-5f27de6f7064')\"\n",
              "              title=\"Convert this dataframe to an interactive table.\"\n",
              "              style=\"display:none;\">\n",
              "        \n",
              "  <svg xmlns=\"http://www.w3.org/2000/svg\" height=\"24px\"viewBox=\"0 0 24 24\"\n",
              "       width=\"24px\">\n",
              "    <path d=\"M0 0h24v24H0V0z\" fill=\"none\"/>\n",
              "    <path d=\"M18.56 5.44l.94 2.06.94-2.06 2.06-.94-2.06-.94-.94-2.06-.94 2.06-2.06.94zm-11 1L8.5 8.5l.94-2.06 2.06-.94-2.06-.94L8.5 2.5l-.94 2.06-2.06.94zm10 10l.94 2.06.94-2.06 2.06-.94-2.06-.94-.94-2.06-.94 2.06-2.06.94z\"/><path d=\"M17.41 7.96l-1.37-1.37c-.4-.4-.92-.59-1.43-.59-.52 0-1.04.2-1.43.59L10.3 9.45l-7.72 7.72c-.78.78-.78 2.05 0 2.83L4 21.41c.39.39.9.59 1.41.59.51 0 1.02-.2 1.41-.59l7.78-7.78 2.81-2.81c.8-.78.8-2.07 0-2.86zM5.41 20L4 18.59l7.72-7.72 1.47 1.35L5.41 20z\"/>\n",
              "  </svg>\n",
              "      </button>\n",
              "      \n",
              "  <style>\n",
              "    .colab-df-container {\n",
              "      display:flex;\n",
              "      flex-wrap:wrap;\n",
              "      gap: 12px;\n",
              "    }\n",
              "\n",
              "    .colab-df-convert {\n",
              "      background-color: #E8F0FE;\n",
              "      border: none;\n",
              "      border-radius: 50%;\n",
              "      cursor: pointer;\n",
              "      display: none;\n",
              "      fill: #1967D2;\n",
              "      height: 32px;\n",
              "      padding: 0 0 0 0;\n",
              "      width: 32px;\n",
              "    }\n",
              "\n",
              "    .colab-df-convert:hover {\n",
              "      background-color: #E2EBFA;\n",
              "      box-shadow: 0px 1px 2px rgba(60, 64, 67, 0.3), 0px 1px 3px 1px rgba(60, 64, 67, 0.15);\n",
              "      fill: #174EA6;\n",
              "    }\n",
              "\n",
              "    [theme=dark] .colab-df-convert {\n",
              "      background-color: #3B4455;\n",
              "      fill: #D2E3FC;\n",
              "    }\n",
              "\n",
              "    [theme=dark] .colab-df-convert:hover {\n",
              "      background-color: #434B5C;\n",
              "      box-shadow: 0px 1px 3px 1px rgba(0, 0, 0, 0.15);\n",
              "      filter: drop-shadow(0px 1px 2px rgba(0, 0, 0, 0.3));\n",
              "      fill: #FFFFFF;\n",
              "    }\n",
              "  </style>\n",
              "\n",
              "      <script>\n",
              "        const buttonEl =\n",
              "          document.querySelector('#df-da7189b3-189b-4372-96e6-5f27de6f7064 button.colab-df-convert');\n",
              "        buttonEl.style.display =\n",
              "          google.colab.kernel.accessAllowed ? 'block' : 'none';\n",
              "\n",
              "        async function convertToInteractive(key) {\n",
              "          const element = document.querySelector('#df-da7189b3-189b-4372-96e6-5f27de6f7064');\n",
              "          const dataTable =\n",
              "            await google.colab.kernel.invokeFunction('convertToInteractive',\n",
              "                                                     [key], {});\n",
              "          if (!dataTable) return;\n",
              "\n",
              "          const docLinkHtml = 'Like what you see? Visit the ' +\n",
              "            '<a target=\"_blank\" href=https://colab.research.google.com/notebooks/data_table.ipynb>data table notebook</a>'\n",
              "            + ' to learn more about interactive tables.';\n",
              "          element.innerHTML = '';\n",
              "          dataTable['output_type'] = 'display_data';\n",
              "          await google.colab.output.renderOutput(dataTable, element);\n",
              "          const docLink = document.createElement('div');\n",
              "          docLink.innerHTML = docLinkHtml;\n",
              "          element.appendChild(docLink);\n",
              "        }\n",
              "      </script>\n",
              "    </div>\n",
              "  </div>\n",
              "  "
            ]
          },
          "metadata": {},
          "execution_count": 241
        }
      ]
    },
    {
      "cell_type": "code",
      "source": [
        "# Memvisualisasikan Genre berdasarkan Sales\n",
        "plt.figure(figsize = (12, 7))\n",
        "plot_limit = df.groupby('Genre')['Sales'].sum().sort_values(ascending = False).index.values\n",
        "sns.barplot(x = 'Genre', y = 'Sales', data = df_by_genre, order = plot_limit[0:5])\n",
        "plt.ylabel(\"Sales (dalam juta)\", fontsize = 16)\n",
        "plt.xlabel('')\n",
        "plt.xticks(fontsize = 12)\n",
        "plt.title(\"Top Genre By Sales\", fontsize = 20)\n",
        "plt.show()"
      ],
      "metadata": {
        "colab": {
          "base_uri": "https://localhost:8080/",
          "height": 452
        },
        "id": "-_N6aUb0dHKz",
        "outputId": "3a9f9ad5-9807-4eaa-b385-09d99e1798bf"
      },
      "execution_count": null,
      "outputs": [
        {
          "output_type": "display_data",
          "data": {
            "text/plain": [
              "<Figure size 864x504 with 1 Axes>"
            ],
            "image/png": "[encoded data removed]"
          },
          "metadata": {
            "needs_background": "light"
          }
        }
      ]
    },
    {
      "cell_type": "code",
      "source": [
        "# Memvisualisasikan top 5 Genre berdasarkan jumlah dalam bentuk bar diagram\n",
        "df.Genre.value_counts().head().plot(kind = 'barh', color = 'blue')"
      ],
      "metadata": {
        "colab": {
          "base_uri": "https://localhost:8080/",
          "height": 283
        },
        "id": "8ihNQmLAcMc_",
        "outputId": "14e7e29b-b0f0-42af-c12e-17d2ee0b8de9"
      },
      "execution_count": null,
      "outputs": [
        {
          "output_type": "execute_result",
          "data": {
            "text/plain": [
              "<matplotlib.axes._subplots.AxesSubplot at 0x7f381d160910>"
            ]
          },
          "metadata": {},
          "execution_count": 243
        },
        {
          "output_type": "display_data",
          "data": {
            "text/plain": [
              "<Figure size 432x288 with 1 Axes>"
            ],
            "image/png": "[encoded data removed]"
          },
          "metadata": {
            "needs_background": "light"
          }
        }
      ]
    },
    {
      "cell_type": "code",
      "source": [
        "# Memvisualisasikan top 5 Genre berdasarkan jumlah dalam bentuk pie chart\n",
        "plt.figure(figsize = (15, 7))\n",
        "df.Genre.value_counts().iloc[:5].plot(kind = 'pie', ylabel = '')\n",
        "plt.title(\"Top 5 Popular Genre\", fontsize = (20))\n",
        "plt.show()"
      ],
      "metadata": {
        "colab": {
          "base_uri": "https://localhost:8080/",
          "height": 432
        },
        "id": "nHOSgi9zhnwe",
        "outputId": "78bfe8c4-88d5-4b23-a2fe-91b5e4200e7c"
      },
      "execution_count": null,
      "outputs": [
        {
          "output_type": "display_data",
          "data": {
            "text/plain": [
              "<Figure size 1080x504 with 1 Axes>"
            ],
            "image/png": "[encoded data removed]"
          },
          "metadata": {}
        }
      ]
    },
    {
      "cell_type": "markdown",
      "source": [
        "**Publisher**"
      ],
      "metadata": {
        "id": "HxQ_3eXqiSYq"
      }
    },
    {
      "cell_type": "code",
      "source": [
        "# Menghitung top 5 Publisher berdasarkan jumlah game yang telah dipubilish\n",
        "df['Publisher'].value_counts().head(5)"
      ],
      "metadata": {
        "colab": {
          "base_uri": "https://localhost:8080/"
        },
        "id": "CFq5AXSTg4XI",
        "outputId": "ff8f50ff-1108-4066-cce2-d12f417f5c3e"
      },
      "execution_count": null,
      "outputs": [
        {
          "output_type": "execute_result",
          "data": {
            "text/plain": [
              "Paradox Interactive       6\n",
              "Blizzard Entertainment    3\n",
              "Square Enix               2\n",
              "Capcom                    2\n",
              "SCS Software              2\n",
              "Name: Publisher, dtype: int64"
            ]
          },
          "metadata": {},
          "execution_count": 245
        }
      ]
    },
    {
      "cell_type": "code",
      "source": [
        "# Memvisualisasikan top 5 Publisher berdasarkan jumlah game yang telah dipubilish\n",
        "plt.figure(figsize = (15, 7))\n",
        "df.Publisher.value_counts().iloc[:5].plot(kind = 'pie', ylabel = '')\n",
        "plt.title(\"Top 5 Game Publishers\", fontsize = (20))\n",
        "plt.show\n"
      ],
      "metadata": {
        "colab": {
          "base_uri": "https://localhost:8080/",
          "height": 450
        },
        "id": "SZOBkWy3hPYH",
        "outputId": "4e697679-d8fd-492c-d7e7-36767a18b0b0"
      },
      "execution_count": null,
      "outputs": [
        {
          "output_type": "execute_result",
          "data": {
            "text/plain": [
              "<function matplotlib.pyplot.show>"
            ]
          },
          "metadata": {},
          "execution_count": 246
        },
        {
          "output_type": "display_data",
          "data": {
            "text/plain": [
              "<Figure size 1080x504 with 1 Axes>"
            ],
            "image/png": "[encoded data removed]"
          },
          "metadata": {}
        }
      ]
    }
  ]
}