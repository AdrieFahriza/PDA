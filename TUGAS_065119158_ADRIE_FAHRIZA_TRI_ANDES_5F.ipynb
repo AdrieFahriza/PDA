{
  "nbformat": 4,
  "nbformat_minor": 0,
  "metadata": {
    "colab": {
      "name": "TUGAS_065119158_ADRIE FAHRIZA TRI ANDES_5F.ipynb",
      "provenance": [],
      "collapsed_sections": [],
      "toc_visible": true,
      "include_colab_link": true
    },
    "kernelspec": {
      "name": "python3",
      "display_name": "Python 3"
    },
    "language_info": {
      "name": "python"
    }
  },
  "cells": [
    {
      "cell_type": "markdown",
      "metadata": {
        "id": "view-in-github",
        "colab_type": "text"
      },
      "source": [
        "<a href=\"https://colab.research.google.com/github/AdrieFahriza/PDA/blob/main/TUGAS_065119158_ADRIE_FAHRIZA_TRI_ANDES_5F.ipynb\" target=\"_parent\"><img src=\"https://colab.research.google.com/assets/colab-badge.svg\" alt=\"Open In Colab\"/></a>"
      ]
    },
    {
      "cell_type": "markdown",
      "source": [
        "**Import Library**"
      ],
      "metadata": {
        "id": "hs3KaoMNDdJ4"
      }
    },
    {
      "cell_type": "code",
      "execution_count": 1,
      "metadata": {
        "id": "6sK0Bx_9hIwU"
      },
      "outputs": [],
      "source": [
        "import pandas as pd\n",
        "import numpy as np\n",
        "import seaborn as sns\n",
        "import matplotlib.pyplot as plt"
      ]
    },
    {
      "cell_type": "markdown",
      "source": [
        "#**1. Data Ingestion**"
      ],
      "metadata": {
        "id": "zAlyBBsC534m"
      }
    },
    {
      "cell_type": "markdown",
      "source": [
        "**Mengambil File dari Github**\n",
        "\n",
        "Berhubung file dataset-nya tidak bisa diakses langsung (harus di-download terlebih dahulu) maka file diambil melalui repository Github.\n",
        "\n"
      ],
      "metadata": {
        "id": "f8TGbNXhDigz"
      }
    },
    {
      "cell_type": "code",
      "source": [
        "!git clone -l -s git://github.com/AdrieFahriza/dataset github\n",
        "%cd github\n",
        "!ls"
      ],
      "metadata": {
        "colab": {
          "base_uri": "https://localhost:8080/"
        },
        "id": "yEzyNudL2Qwn",
        "outputId": "c8e87253-c182-429e-e9cd-81a6c4c65fbe"
      },
      "execution_count": 2,
      "outputs": [
        {
          "output_type": "stream",
          "name": "stdout",
          "text": [
            "Cloning into 'github'...\n",
            "warning: --local is ignored\n",
            "fatal: remote error: \n",
            "  The unauthenticated git protocol on port 9418 is no longer supported.\n",
            "Please see https://github.blog/2021-09-01-improving-git-protocol-security-github/ for more information.\n",
            "[Errno 2] No such file or directory: 'github'\n",
            "/content\n",
            "sample_data\n"
          ]
        }
      ]
    },
    {
      "cell_type": "code",
      "source": [
        "dataset = pd.read_csv('data-jumlah-kepadatan-penduduk-per-kelurahan-tahun-2020.csv')"
      ],
      "metadata": {
        "id": "O6wZ93W4h48o"
      },
      "execution_count": null,
      "outputs": []
    },
    {
      "cell_type": "code",
      "source": [
        "dataset"
      ],
      "metadata": {
        "colab": {
          "base_uri": "https://localhost:8080/",
          "height": 617
        },
        "id": "jwqL9at2ivws",
        "outputId": "00056942-0566-4ebe-8a47-813827599aae"
      },
      "execution_count": null,
      "outputs": [
        {
          "output_type": "execute_result",
          "data": {
            "text/html": [
              "<div>\n",
              "<style scoped>\n",
              "    .dataframe tbody tr th:only-of-type {\n",
              "        vertical-align: middle;\n",
              "    }\n",
              "\n",
              "    .dataframe tbody tr th {\n",
              "        vertical-align: top;\n",
              "    }\n",
              "\n",
              "    .dataframe thead th {\n",
              "        text-align: right;\n",
              "    }\n",
              "</style>\n",
              "<table border=\"1\" class=\"dataframe\">\n",
              "  <thead>\n",
              "    <tr style=\"text-align: right;\">\n",
              "      <th></th>\n",
              "      <th>tahun</th>\n",
              "      <th>nama_provinsi</th>\n",
              "      <th>nama_kabupaten_kota</th>\n",
              "      <th>nama_kecamatan</th>\n",
              "      <th>nama_kelurahan</th>\n",
              "      <th>jumlah_luas_wilayah_(km2)</th>\n",
              "      <th>jumlah_kepadatan_(jiwa/km2)</th>\n",
              "    </tr>\n",
              "  </thead>\n",
              "  <tbody>\n",
              "    <tr>\n",
              "      <th>0</th>\n",
              "      <td>2020</td>\n",
              "      <td>PROVINSI DKI JAKARTA</td>\n",
              "      <td>KAB.ADM.KEP.SERIBU</td>\n",
              "      <td>KEP. SERIBU UTR</td>\n",
              "      <td>P. PANGGANG</td>\n",
              "      <td>0.62</td>\n",
              "      <td>11442.834140</td>\n",
              "    </tr>\n",
              "    <tr>\n",
              "      <th>1</th>\n",
              "      <td>2020</td>\n",
              "      <td>PROVINSI DKI JAKARTA</td>\n",
              "      <td>KAB.ADM.KEP.SERIBU</td>\n",
              "      <td>KEP. SERIBU UTR</td>\n",
              "      <td>P. KELAPA</td>\n",
              "      <td>2.58</td>\n",
              "      <td>2774.403219</td>\n",
              "    </tr>\n",
              "    <tr>\n",
              "      <th>2</th>\n",
              "      <td>2020</td>\n",
              "      <td>PROVINSI DKI JAKARTA</td>\n",
              "      <td>KAB.ADM.KEP.SERIBU</td>\n",
              "      <td>KEP. SERIBU UTR</td>\n",
              "      <td>P. HARAPAN</td>\n",
              "      <td>2.45</td>\n",
              "      <td>1082.052958</td>\n",
              "    </tr>\n",
              "    <tr>\n",
              "      <th>3</th>\n",
              "      <td>2020</td>\n",
              "      <td>PROVINSI DKI JAKARTA</td>\n",
              "      <td>KAB.ADM.KEP.SERIBU</td>\n",
              "      <td>KEP. SERIBU SLT</td>\n",
              "      <td>P. UNTUNG JAWA</td>\n",
              "      <td>1.03</td>\n",
              "      <td>2476.421974</td>\n",
              "    </tr>\n",
              "    <tr>\n",
              "      <th>4</th>\n",
              "      <td>2020</td>\n",
              "      <td>PROVINSI DKI JAKARTA</td>\n",
              "      <td>KAB.ADM.KEP.SERIBU</td>\n",
              "      <td>KEP. SERIBU SLT</td>\n",
              "      <td>P. TIDUNG</td>\n",
              "      <td>1.07</td>\n",
              "      <td>5685.687558</td>\n",
              "    </tr>\n",
              "    <tr>\n",
              "      <th>...</th>\n",
              "      <td>...</td>\n",
              "      <td>...</td>\n",
              "      <td>...</td>\n",
              "      <td>...</td>\n",
              "      <td>...</td>\n",
              "      <td>...</td>\n",
              "      <td>...</td>\n",
              "    </tr>\n",
              "    <tr>\n",
              "      <th>262</th>\n",
              "      <td>2020</td>\n",
              "      <td>PROVINSI DKI JAKARTA</td>\n",
              "      <td>JAKARTA TIMUR</td>\n",
              "      <td>CIPAYUNG</td>\n",
              "      <td>MUNJUL</td>\n",
              "      <td>1.90</td>\n",
              "      <td>15691.014190</td>\n",
              "    </tr>\n",
              "    <tr>\n",
              "      <th>263</th>\n",
              "      <td>2020</td>\n",
              "      <td>PROVINSI DKI JAKARTA</td>\n",
              "      <td>JAKARTA TIMUR</td>\n",
              "      <td>CIPAYUNG</td>\n",
              "      <td>SETU</td>\n",
              "      <td>3.25</td>\n",
              "      <td>7953.678642</td>\n",
              "    </tr>\n",
              "    <tr>\n",
              "      <th>264</th>\n",
              "      <td>2020</td>\n",
              "      <td>PROVINSI DKI JAKARTA</td>\n",
              "      <td>JAKARTA TIMUR</td>\n",
              "      <td>CIPAYUNG</td>\n",
              "      <td>BAMBU APUS</td>\n",
              "      <td>3.17</td>\n",
              "      <td>10391.444460</td>\n",
              "    </tr>\n",
              "    <tr>\n",
              "      <th>265</th>\n",
              "      <td>2020</td>\n",
              "      <td>PROVINSI DKI JAKARTA</td>\n",
              "      <td>JAKARTA TIMUR</td>\n",
              "      <td>CIPAYUNG</td>\n",
              "      <td>LUBANG BUAYA</td>\n",
              "      <td>3.72</td>\n",
              "      <td>21439.548630</td>\n",
              "    </tr>\n",
              "    <tr>\n",
              "      <th>266</th>\n",
              "      <td>2020</td>\n",
              "      <td>PROVINSI DKI JAKARTA</td>\n",
              "      <td>JAKARTA TIMUR</td>\n",
              "      <td>CIPAYUNG</td>\n",
              "      <td>CEGER</td>\n",
              "      <td>3.63</td>\n",
              "      <td>6538.885825</td>\n",
              "    </tr>\n",
              "  </tbody>\n",
              "</table>\n",
              "<p>267 rows × 7 columns</p>\n",
              "</div>"
            ],
            "text/plain": [
              "     tahun  ... jumlah_kepadatan_(jiwa/km2)\n",
              "0     2020  ...                11442.834140\n",
              "1     2020  ...                 2774.403219\n",
              "2     2020  ...                 1082.052958\n",
              "3     2020  ...                 2476.421974\n",
              "4     2020  ...                 5685.687558\n",
              "..     ...  ...                         ...\n",
              "262   2020  ...                15691.014190\n",
              "263   2020  ...                 7953.678642\n",
              "264   2020  ...                10391.444460\n",
              "265   2020  ...                21439.548630\n",
              "266   2020  ...                 6538.885825\n",
              "\n",
              "[267 rows x 7 columns]"
            ]
          },
          "metadata": {},
          "execution_count": 4
        }
      ]
    },
    {
      "cell_type": "markdown",
      "source": [
        "# **2. Data Exploration**"
      ],
      "metadata": {
        "id": "1JJnrWkP5vAD"
      }
    },
    {
      "cell_type": "markdown",
      "source": [
        "**1. Head**"
      ],
      "metadata": {
        "id": "OIKNRLuj6Mdg"
      }
    },
    {
      "cell_type": "code",
      "source": [
        "print(dataset.head())"
      ],
      "metadata": {
        "colab": {
          "base_uri": "https://localhost:8080/"
        },
        "id": "ieLv_YeT6TAE",
        "outputId": "1c263f02-df08-4dd2-f487-ee5c8a51e4c1"
      },
      "execution_count": null,
      "outputs": [
        {
          "output_type": "stream",
          "name": "stdout",
          "text": [
            "   tahun  ... jumlah_kepadatan_(jiwa/km2)\n",
            "0   2020  ...                11442.834140\n",
            "1   2020  ...                 2774.403219\n",
            "2   2020  ...                 1082.052958\n",
            "3   2020  ...                 2476.421974\n",
            "4   2020  ...                 5685.687558\n",
            "\n",
            "[5 rows x 7 columns]\n"
          ]
        }
      ]
    },
    {
      "cell_type": "markdown",
      "source": [
        "**2. Tail**"
      ],
      "metadata": {
        "id": "TBcuVvJW60xU"
      }
    },
    {
      "cell_type": "code",
      "source": [
        "print(dataset.tail())"
      ],
      "metadata": {
        "colab": {
          "base_uri": "https://localhost:8080/"
        },
        "id": "qWM1pcWo66vq",
        "outputId": "3c175d7b-6cad-4e9a-ed0c-e054fda13a06"
      },
      "execution_count": null,
      "outputs": [
        {
          "output_type": "stream",
          "name": "stdout",
          "text": [
            "     tahun  ... jumlah_kepadatan_(jiwa/km2)\n",
            "262   2020  ...                15691.014190\n",
            "263   2020  ...                 7953.678642\n",
            "264   2020  ...                10391.444460\n",
            "265   2020  ...                21439.548630\n",
            "266   2020  ...                 6538.885825\n",
            "\n",
            "[5 rows x 7 columns]\n"
          ]
        }
      ]
    },
    {
      "cell_type": "markdown",
      "source": [
        "**3. Keys**"
      ],
      "metadata": {
        "id": "Vle39Lz97BGM"
      }
    },
    {
      "cell_type": "code",
      "source": [
        "print(dataset.keys())"
      ],
      "metadata": {
        "colab": {
          "base_uri": "https://localhost:8080/"
        },
        "id": "0WnV09PM7EeA",
        "outputId": "0b8f81ab-cd33-4e03-ad0d-8de7ab3d4d56"
      },
      "execution_count": null,
      "outputs": [
        {
          "output_type": "stream",
          "name": "stdout",
          "text": [
            "Index(['tahun', 'nama_provinsi', 'nama_kabupaten_kota', 'nama_kecamatan',\n",
            "       'nama_kelurahan', 'jumlah_luas_wilayah_(km2)',\n",
            "       'jumlah_kepadatan_(jiwa/km2)'],\n",
            "      dtype='object')\n"
          ]
        }
      ]
    },
    {
      "cell_type": "markdown",
      "source": [
        "**4. Shape**"
      ],
      "metadata": {
        "id": "EaFT2RTq7JjQ"
      }
    },
    {
      "cell_type": "code",
      "source": [
        "print(dataset.shape)"
      ],
      "metadata": {
        "colab": {
          "base_uri": "https://localhost:8080/"
        },
        "id": "AEFZVKRW7LhY",
        "outputId": "becc53c4-d289-4021-b2d8-23ad787f0b5b"
      },
      "execution_count": null,
      "outputs": [
        {
          "output_type": "stream",
          "name": "stdout",
          "text": [
            "(267, 7)\n"
          ]
        }
      ]
    },
    {
      "cell_type": "markdown",
      "source": [
        "**5. Info**"
      ],
      "metadata": {
        "id": "OIC5Jvzz7auI"
      }
    },
    {
      "cell_type": "code",
      "source": [
        "print(dataset.info())"
      ],
      "metadata": {
        "colab": {
          "base_uri": "https://localhost:8080/"
        },
        "id": "alnZdUc67crD",
        "outputId": "d9c5c63c-7eb1-4d4a-f475-5823609da21b"
      },
      "execution_count": null,
      "outputs": [
        {
          "output_type": "stream",
          "name": "stdout",
          "text": [
            "<class 'pandas.core.frame.DataFrame'>\n",
            "RangeIndex: 267 entries, 0 to 266\n",
            "Data columns (total 7 columns):\n",
            " #   Column                       Non-Null Count  Dtype  \n",
            "---  ------                       --------------  -----  \n",
            " 0   tahun                        267 non-null    int64  \n",
            " 1   nama_provinsi                267 non-null    object \n",
            " 2   nama_kabupaten_kota          267 non-null    object \n",
            " 3   nama_kecamatan               267 non-null    object \n",
            " 4   nama_kelurahan               267 non-null    object \n",
            " 5   jumlah_luas_wilayah_(km2)    267 non-null    float64\n",
            " 6   jumlah_kepadatan_(jiwa/km2)  267 non-null    float64\n",
            "dtypes: float64(2), int64(1), object(4)\n",
            "memory usage: 14.7+ KB\n",
            "None\n"
          ]
        }
      ]
    },
    {
      "cell_type": "markdown",
      "source": [
        "**6. Describe**"
      ],
      "metadata": {
        "id": "o41bKaYR7l4B"
      }
    },
    {
      "cell_type": "code",
      "source": [
        "dataset.describe()"
      ],
      "metadata": {
        "colab": {
          "base_uri": "https://localhost:8080/",
          "height": 300
        },
        "id": "CpEcfy4N7n_u",
        "outputId": "cc0d08e8-4325-4486-ab11-23d904231d58"
      },
      "execution_count": null,
      "outputs": [
        {
          "output_type": "execute_result",
          "data": {
            "text/html": [
              "<div>\n",
              "<style scoped>\n",
              "    .dataframe tbody tr th:only-of-type {\n",
              "        vertical-align: middle;\n",
              "    }\n",
              "\n",
              "    .dataframe tbody tr th {\n",
              "        vertical-align: top;\n",
              "    }\n",
              "\n",
              "    .dataframe thead th {\n",
              "        text-align: right;\n",
              "    }\n",
              "</style>\n",
              "<table border=\"1\" class=\"dataframe\">\n",
              "  <thead>\n",
              "    <tr style=\"text-align: right;\">\n",
              "      <th></th>\n",
              "      <th>tahun</th>\n",
              "      <th>jumlah_luas_wilayah_(km2)</th>\n",
              "      <th>jumlah_kepadatan_(jiwa/km2)</th>\n",
              "    </tr>\n",
              "  </thead>\n",
              "  <tbody>\n",
              "    <tr>\n",
              "      <th>count</th>\n",
              "      <td>267.0</td>\n",
              "      <td>267.000000</td>\n",
              "      <td>267.000000</td>\n",
              "    </tr>\n",
              "    <tr>\n",
              "      <th>mean</th>\n",
              "      <td>2020.0</td>\n",
              "      <td>2.445543</td>\n",
              "      <td>23964.520162</td>\n",
              "    </tr>\n",
              "    <tr>\n",
              "      <th>std</th>\n",
              "      <td>0.0</td>\n",
              "      <td>2.072991</td>\n",
              "      <td>16818.847176</td>\n",
              "    </tr>\n",
              "    <tr>\n",
              "      <th>min</th>\n",
              "      <td>2020.0</td>\n",
              "      <td>0.140000</td>\n",
              "      <td>1082.052958</td>\n",
              "    </tr>\n",
              "    <tr>\n",
              "      <th>25%</th>\n",
              "      <td>2020.0</td>\n",
              "      <td>0.965000</td>\n",
              "      <td>12835.485110</td>\n",
              "    </tr>\n",
              "    <tr>\n",
              "      <th>50%</th>\n",
              "      <td>2020.0</td>\n",
              "      <td>1.790000</td>\n",
              "      <td>18748.748890</td>\n",
              "    </tr>\n",
              "    <tr>\n",
              "      <th>75%</th>\n",
              "      <td>2020.0</td>\n",
              "      <td>3.300000</td>\n",
              "      <td>30680.113300</td>\n",
              "    </tr>\n",
              "    <tr>\n",
              "      <th>max</th>\n",
              "      <td>2020.0</td>\n",
              "      <td>13.070000</td>\n",
              "      <td>94525.157230</td>\n",
              "    </tr>\n",
              "  </tbody>\n",
              "</table>\n",
              "</div>"
            ],
            "text/plain": [
              "        tahun  jumlah_luas_wilayah_(km2)  jumlah_kepadatan_(jiwa/km2)\n",
              "count   267.0                 267.000000                   267.000000\n",
              "mean   2020.0                   2.445543                 23964.520162\n",
              "std       0.0                   2.072991                 16818.847176\n",
              "min    2020.0                   0.140000                  1082.052958\n",
              "25%    2020.0                   0.965000                 12835.485110\n",
              "50%    2020.0                   1.790000                 18748.748890\n",
              "75%    2020.0                   3.300000                 30680.113300\n",
              "max    2020.0                  13.070000                 94525.157230"
            ]
          },
          "metadata": {},
          "execution_count": 10
        }
      ]
    },
    {
      "cell_type": "markdown",
      "source": [
        "# **3. Visualisasi Data**"
      ],
      "metadata": {
        "id": "pODi07E-8Oyu"
      }
    },
    {
      "cell_type": "markdown",
      "source": [
        "**1. Pandas**\n",
        "\n"
      ],
      "metadata": {
        "id": "RHBRDwHI8S6v"
      }
    },
    {
      "cell_type": "code",
      "source": [
        "print(dataset.plot.hist(bins=15))"
      ],
      "metadata": {
        "colab": {
          "base_uri": "https://localhost:8080/",
          "height": 282
        },
        "id": "l2OeQjaZeRsT",
        "outputId": "de023316-01c0-4d9a-d996-d5179fde4212"
      },
      "execution_count": null,
      "outputs": [
        {
          "output_type": "stream",
          "name": "stdout",
          "text": [
            "AxesSubplot(0.125,0.125;0.775x0.755)\n"
          ]
        },
        {
          "output_type": "display_data",
          "data": {
            "image/png": "[encoded data removed]",
            "text/plain": [
              "<Figure size 432x288 with 1 Axes>"
            ]
          },
          "metadata": {
            "needs_background": "light"
          }
        }
      ]
    },
    {
      "cell_type": "markdown",
      "source": [
        "**2. Matplotlib**"
      ],
      "metadata": {
        "id": "5juCCK_qWYPz"
      }
    },
    {
      "cell_type": "code",
      "source": [
        "dataset.plot(kind=\"scatter\", x='jumlah_luas_wilayah_(km2)', y='jumlah_kepadatan_(jiwa/km2)')\n",
        "plt.grid()"
      ],
      "metadata": {
        "colab": {
          "base_uri": "https://localhost:8080/",
          "height": 280
        },
        "id": "AJ17lNmneZ5T",
        "outputId": "ead82f46-26cb-457e-f48c-c5844f830954"
      },
      "execution_count": null,
      "outputs": [
        {
          "output_type": "display_data",
          "data": {
            "image/png": "[encoded data removed]",
            "text/plain": [
              "<Figure size 432x288 with 1 Axes>"
            ]
          },
          "metadata": {
            "needs_background": "light"
          }
        }
      ]
    },
    {
      "cell_type": "markdown",
      "source": [
        "**3. Seaborn**"
      ],
      "metadata": {
        "id": "0KTN6fB_de4F"
      }
    },
    {
      "cell_type": "code",
      "source": [
        "sns.FacetGrid(dataset, hue='nama_kabupaten_kota', height = 6).map(plt.scatter, 'jumlah_luas_wilayah_(km2)', 'jumlah_kepadatan_(jiwa/km2)').add_legend()"
      ],
      "metadata": {
        "colab": {
          "base_uri": "https://localhost:8080/",
          "height": 458
        },
        "id": "sIdB9ybEfpYw",
        "outputId": "83eb493c-3c81-401c-864d-ea12daad41d2"
      },
      "execution_count": null,
      "outputs": [
        {
          "output_type": "execute_result",
          "data": {
            "text/plain": [
              "<seaborn.axisgrid.FacetGrid at 0x7f2289198f50>"
            ]
          },
          "metadata": {},
          "execution_count": 13
        },
        {
          "output_type": "display_data",
          "data": {
            "image/png": "[encoded data removed]",
            "text/plain": [
              "<Figure size 574.875x432 with 1 Axes>"
            ]
          },
          "metadata": {
            "needs_background": "light"
          }
        }
      ]
    }
  ]
}